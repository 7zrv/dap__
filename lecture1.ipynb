{
  "nbformat": 4,
  "nbformat_minor": 0,
  "metadata": {
    "colab": {
      "name": "lecture1.ipynb",
      "provenance": [],
      "authorship_tag": "ABX9TyONxeD0XXlmDsbqfOEDopA+",
      "include_colab_link": true
    },
    "kernelspec": {
      "name": "python3",
      "display_name": "Python 3"
    },
    "language_info": {
      "name": "python"
    }
  },
  "cells": [
    {
      "cell_type": "markdown",
      "metadata": {
        "id": "view-in-github",
        "colab_type": "text"
      },
      "source": [
        "<a href=\"https://colab.research.google.com/github/7zrv/dap__/blob/main/lecture1.ipynb\" target=\"_parent\"><img src=\"https://colab.research.google.com/assets/colab-badge.svg\" alt=\"Open In Colab\"/></a>"
      ]
    },
    {
      "cell_type": "code",
      "metadata": {
        "id": "RR06mEqQrWVf"
      },
      "source": [
        "import numpy\n",
        "import pandas as pd\n",
        "import scipy\n",
        "import matplotlib\n",
        "import seaborn\n",
        "import sklearn\n",
        "\n",
        "\n"
      ],
      "execution_count": 1,
      "outputs": []
    },
    {
      "cell_type": "code",
      "metadata": {
        "colab": {
          "base_uri": "https://localhost:8080/"
        },
        "id": "f8muthKurcqR",
        "outputId": "907312f2-341e-49b3-c89f-4714ae2a5363"
      },
      "source": [
        "print(numpy.__version__)\n",
        "print(pd.__version__)\n",
        "print(scipy.__version__)\n",
        "print(matplotlib.__version__)\n",
        "print(seaborn.__version__)\n",
        "print(sklearn.__version__)"
      ],
      "execution_count": 2,
      "outputs": [
        {
          "output_type": "stream",
          "name": "stdout",
          "text": [
            "1.19.5\n",
            "1.1.5\n",
            "1.4.1\n",
            "3.2.2\n",
            "0.11.1\n",
            "0.22.2.post1\n"
          ]
        }
      ]
    }
  ]
}